{
 "cells": [
  {
   "cell_type": "markdown",
   "metadata": {},
   "source": [
    "## Atividades LAB 01 Classificação e Pesquisa de Dados\n",
    "\n",
    "Nome: Gustavo Machado Silva  \n",
    "Cartão: 316347"
   ]
  },
  {
   "cell_type": "code",
   "execution_count": 89,
   "metadata": {},
   "outputs": [],
   "source": [
    "import random\n",
    "import csv\n",
    "import time\n",
    "import numpy as np"
   ]
  },
  {
   "cell_type": "markdown",
   "metadata": {},
   "source": [
    "### Procedimento para gerar um Array de inteiros aleatórios e passar para um arquivo csv"
   ]
  },
  {
   "cell_type": "code",
   "execution_count": 45,
   "metadata": {},
   "outputs": [],
   "source": [
    "def generate_random_array(n, seed=None):\n",
    "  if seed is not None:\n",
    "    random.seed(seed)\n",
    "  random_array = [random.randint(0, 10000) for _ in range(n)]  # Generates numbers between 0 and 10000\n",
    "  return random_array"
   ]
  },
  {
   "cell_type": "code",
   "execution_count": 48,
   "metadata": {},
   "outputs": [
    {
     "name": "stdout",
     "output_type": "stream",
     "text": [
      "[9154, 730, 2387, 8291, 2109, 8012, 4674, 2527, 7762, 6957, 2211, 4555, 3701, 7327, 2469, 8049, 1450, 4977, 1830, 9231, 8530, 9362, 2988, 5687, 3018, 9711, 7091, 7065, 3270, 7830, 3964, 2230, 9728, 5730, 131, 2970, 6642, 8735, 1358, 1632, 6813, 1238, 9513, 2328, 4934, 6216, 2138, 9723, 9625, 2992, 9940, 9248, 3417, 2476, 1163, 7370, 9823, 1303, 2210, 6143, 649, 1621, 8570, 9867, 5639, 4779, 1021, 4982, 241, 947, 7207, 1859, 8381, 1525, 8276, 4213, 8245, 2987, 4607, 4166, 5085, 3847, 6626, 4384, 2414, 9137, 3581, 2313, 8880, 2897, 3917, 5885, 512, 3238, 4442, 5801, 5545, 1947, 7893, 5241]\n"
     ]
    }
   ],
   "source": [
    "# passe os parâmetros para gerar o vetor aleatório\n",
    "seed = 12345 # id do portal do aluno\n",
    "tamanho = 100 # tamanho do vetor\n",
    "array = generate_random_array(tamanho)\n",
    "print(array)"
   ]
  },
  {
   "cell_type": "code",
   "execution_count": null,
   "metadata": {},
   "outputs": [],
   "source": [
    "# salve no formato CSV\n",
    "with open('random_array.csv', 'w', newline=\" \") as csvfile:\n",
    "    writer = csv.writer(csvfile)\n",
    "    writer.writerow(array)"
   ]
  },
  {
   "cell_type": "markdown",
   "metadata": {},
   "source": [
    "### Parte 2 - Implementação do algoritmo de ShellSort"
   ]
  },
  {
   "cell_type": "code",
   "execution_count": 11,
   "metadata": {},
   "outputs": [],
   "source": [
    "pot2 = [1,2,4,8,16,32,64,128,256,512,1024,2048,4096,8192,16384,32768,65536,131072,262144,524288,1048576]\n",
    "pot3N1 = [1,4,13,40,121,364,1093,3280,9841,29524,88573,265720,797161,2391484]\n",
    "potCiura = [1,4,10,23,57,132,301,701,1577,3548,7983,17961,40412,90927,204585,460316,1035711]"
   ]
  },
  {
   "cell_type": "code",
   "execution_count": 101,
   "metadata": {},
   "outputs": [],
   "source": [
    "def shellSort(arr, seq):\n",
    "\n",
    "    begin = time.time()\n",
    "\n",
    "    indiceSeq = 0\n",
    "    nextIndice = 0;\n",
    "    h = 1\n",
    "    nextH = 1\n",
    "    moves = 0\n",
    "\n",
    "    while (nextH < len(arr) and h != 0):\n",
    "\n",
    "        nextIndice += 1\n",
    "        match seq:\n",
    "            case 0:\n",
    "                nextH = pot2[indiceSeq]\n",
    "            case 1:\n",
    "                nextH = pot3N1[indiceSeq]\n",
    "            case 2:\n",
    "                nextH = potCiura[indiceSeq]\n",
    "            case _:\n",
    "                print(\"seq is not defined\")\n",
    "                h = 0\n",
    "        \n",
    "        if (nextH < len(arr)):\n",
    "            indiceSeq = nextIndice\n",
    "            h = nextH\n",
    "\n",
    "    indiceSeq -= 1\n",
    "    print(f\"h = {h}\")\n",
    "\n",
    "    while (h >= 1):\n",
    "\n",
    "        # print(f\"h = {h}\")\n",
    "\n",
    "        for i in range(h, len(arr)):\n",
    "            key = arr[i]\n",
    "            j = i - h\n",
    "            while j >= 0 and key < arr[j]:\n",
    "                arr[j + h] = arr[j]\n",
    "                j -= h\n",
    "                moves += 1\n",
    "            arr[j + h] = key\n",
    "\n",
    "        # print(arr)\n",
    "        \n",
    "        indiceSeq -= 1\n",
    "        if (indiceSeq >= 0):\n",
    "            match seq:\n",
    "                case 0:\n",
    "                    h = pot2[indiceSeq]\n",
    "                case 1:\n",
    "                    h = pot3N1[indiceSeq]\n",
    "                case 2:\n",
    "                    h = potCiura[indiceSeq]\n",
    "        else:\n",
    "            h = 0\n",
    "\n",
    "    end = time.time()\n",
    "\n",
    "    executionTime = end - begin\n",
    "\n",
    "    print(f\"Execution time: {executionTime:.4f} seconds\")\n",
    "    print(f\"Moves: {moves}\")\n",
    "\n",
    "    return arr\n"
   ]
  },
  {
   "cell_type": "code",
   "execution_count": 29,
   "metadata": {},
   "outputs": [
    {
     "name": "stdout",
     "output_type": "stream",
     "text": [
      "h = 10\n",
      "Execution time: 0.0001 seconds\n",
      "Moves: 30\n"
     ]
    }
   ],
   "source": [
    "arrayTeste = [17, 25, 49, 12, 18, 23, 45, 38, 53, 42, 27, 13, 11, 28, 10, 14]\n",
    "newArray = shellSort(arrayTeste, 2)\n",
    "# print(newArray)"
   ]
  },
  {
   "cell_type": "markdown",
   "metadata": {},
   "source": [
    "### Parte 4 Executando Testes"
   ]
  },
  {
   "cell_type": "code",
   "execution_count": 92,
   "metadata": {},
   "outputs": [
    {
     "name": "stdout",
     "output_type": "stream",
     "text": [
      "h = 64\n",
      "Execution time: 0.0002 seconds\n",
      "Moves: 582\n",
      "[13, 76, 100, 169, 307, 343, 392, 536, 647, 718, 1049, 1160, 1572, 1616, 1838, 1886, 1901, 2012, 2248, 2311, 2354, 2407, 2722, 3065, 3142, 3214, 3257, 3335, 3448, 3462, 3518, 3591, 3654, 3873, 3887, 3957, 4048, 4248, 4433, 4535, 4614, 4635, 4660, 4705, 4708, 4879, 5037, 5220, 5305, 5450, 5495, 5685, 5712, 5782, 5886, 5921, 6106, 6152, 6170, 6228, 6252, 6320, 6330, 6404, 6410, 6442, 6490, 6678, 6695, 6968, 6990, 7127, 7142, 7257, 7384, 7482, 7684, 7815, 7901, 7919, 8139, 8309, 8315, 8901, 8971, 9090, 9118, 9188, 9273, 9357, 9439, 9454, 9466, 9503, 9531, 9595, 9642, 9885, 9924, 9991]\n"
     ]
    }
   ],
   "source": [
    "array100 = generate_random_array(100)\n",
    "\n",
    "array100SortPot2 = shellSort(array100, 0)\n",
    "print(array100SortPot2)"
   ]
  },
  {
   "cell_type": "code",
   "execution_count": 43,
   "metadata": {},
   "outputs": [
    {
     "name": "stdout",
     "output_type": "stream",
     "text": [
      "h = 40\n",
      "Execution time: 0.0001 seconds\n",
      "Moves: 407\n",
      "[80, 198, 297, 421, 589, 624, 785, 788, 791, 840, 842, 864, 871, 897, 992, 1072, 1168, 1182, 1380, 1647, 1673, 1681, 1682, 1873, 2009, 2227, 2409, 2552, 2553, 2559, 2804, 2904, 2940, 2991, 3029, 3105, 3167, 3229, 3323, 3376, 3909, 4207, 4235, 4360, 4564, 4582, 4607, 4867, 4993, 4999, 5075, 5174, 5337, 5411, 5574, 5668, 5770, 5878, 6092, 6171, 6191, 6293, 6328, 6479, 6628, 6761, 6788, 6797, 6817, 6944, 7080, 7298, 7374, 7478, 7880, 7951, 8005, 8103, 8164, 8278, 8359, 8393, 8432, 8447, 8447, 8509, 8854, 8860, 8877, 8967, 9370, 9530, 9564, 9650, 9650, 9691, 9750, 9754, 9936, 9944]\n"
     ]
    }
   ],
   "source": [
    "array100 = generate_random_array(100)\n",
    "\n",
    "array100SortPot3N1 = shellSort(array100, 1)\n",
    "print(array100SortPot3N1)"
   ]
  },
  {
   "cell_type": "code",
   "execution_count": 44,
   "metadata": {},
   "outputs": [
    {
     "name": "stdout",
     "output_type": "stream",
     "text": [
      "h = 57\n",
      "Execution time: 0.0001 seconds\n",
      "Moves: 375\n",
      "[35, 122, 243, 329, 415, 577, 578, 582, 765, 855, 987, 1275, 1579, 1613, 1659, 1754, 1885, 1932, 1939, 1941, 1987, 2417, 2679, 2898, 2953, 3002, 3095, 3123, 3269, 3350, 3368, 3423, 3445, 3586, 3683, 3769, 3892, 4098, 4324, 4462, 4475, 4562, 4729, 4765, 4815, 4965, 5024, 5060, 5110, 5228, 5236, 5416, 5418, 5453, 5494, 5558, 5576, 6001, 6234, 6307, 6334, 6539, 6605, 6670, 6924, 7129, 7212, 7307, 7307, 7488, 7533, 7583, 7650, 7667, 7698, 7864, 8053, 8071, 8134, 8189, 8223, 8372, 8541, 8571, 8688, 8818, 8827, 8853, 9054, 9079, 9141, 9176, 9237, 9272, 9352, 9525, 9714, 9797, 9855, 9957]\n"
     ]
    }
   ],
   "source": [
    "array100 = generate_random_array(100)\n",
    "\n",
    "array100SortPotCiura = shellSort(array100, 2)\n",
    "print(array100SortPotCiura)"
   ]
  },
  {
   "cell_type": "code",
   "execution_count": 105,
   "metadata": {},
   "outputs": [
    {
     "name": "stdout",
     "output_type": "stream",
     "text": [
      "h = 65536\n",
      "Execution time: 1.2520 seconds\n",
      "Moves: 16147372\n"
     ]
    }
   ],
   "source": [
    "array100_000 = generate_random_array(100_000)\n",
    "\n",
    "array100_000SortPot2 = shellSort(array100_000, 0)"
   ]
  },
  {
   "cell_type": "code",
   "execution_count": 106,
   "metadata": {},
   "outputs": [
    {
     "name": "stdout",
     "output_type": "stream",
     "text": [
      "h = 88573\n",
      "Execution time: 0.2855 seconds\n",
      "Moves: 2783035\n"
     ]
    }
   ],
   "source": [
    "array100_000 = generate_random_array(100_000)\n",
    "\n",
    "array100_000SortPot3N1 = shellSort(array100_000, 1)"
   ]
  },
  {
   "cell_type": "code",
   "execution_count": 107,
   "metadata": {},
   "outputs": [
    {
     "name": "stdout",
     "output_type": "stream",
     "text": [
      "h = 90927\n",
      "Execution time: 0.1934 seconds\n",
      "Moves: 1185788\n"
     ]
    }
   ],
   "source": [
    "array100_000 = generate_random_array(100_000)\n",
    "\n",
    "array100_000SortPotCiura = shellSort(array100_000, 2)"
   ]
  }
 ],
 "metadata": {
  "kernelspec": {
   "display_name": "Python 3",
   "language": "python",
   "name": "python3"
  },
  "language_info": {
   "codemirror_mode": {
    "name": "ipython",
    "version": 3
   },
   "file_extension": ".py",
   "mimetype": "text/x-python",
   "name": "python",
   "nbconvert_exporter": "python",
   "pygments_lexer": "ipython3",
   "version": "3.12.1"
  }
 },
 "nbformat": 4,
 "nbformat_minor": 2
}
